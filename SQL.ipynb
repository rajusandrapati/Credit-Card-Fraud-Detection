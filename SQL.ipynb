{
  "nbformat": 4,
  "nbformat_minor": 0,
  "metadata": {
    "colab": {
      "provenance": [],
      "authorship_tag": "ABX9TyOMyztWlI5Dw+IxXM75stWy",
      "include_colab_link": true
    },
    "kernelspec": {
      "name": "python3",
      "display_name": "Python 3"
    },
    "language_info": {
      "name": "python"
    }
  },
  "cells": [
    {
      "cell_type": "markdown",
      "metadata": {
        "id": "view-in-github",
        "colab_type": "text"
      },
      "source": [
        "<a href=\"https://colab.research.google.com/github/rajusandrapati/Credit-Card-Fraud-Detection/blob/main/SQL.ipynb\" target=\"_parent\"><img src=\"https://colab.research.google.com/assets/colab-badge.svg\" alt=\"Open In Colab\"/></a>"
      ]
    },
    {
      "cell_type": "code",
      "execution_count": null,
      "metadata": {
        "id": "ASYBzbXmvOLi"
      },
      "outputs": [],
      "source": [
        " # 1. SELECT snum, sname, city, comm FROM salespeople;\n"
      ]
    },
    {
      "cell_type": "code",
      "source": [
        "# 2. SELECT DISTINCT snum FROM orders;\n"
      ],
      "metadata": {
        "id": "prpC3hVagLIU"
      },
      "execution_count": null,
      "outputs": []
    },
    {
      "cell_type": "code",
      "source": [
        "# 3. SELECT sname, comm FROM salespeople WHERE city = 'London';\n"
      ],
      "metadata": {
        "id": "Fg5ihvw7gLEw"
      },
      "execution_count": null,
      "outputs": []
    },
    {
      "cell_type": "code",
      "source": [
        "# 4. SELECT * FROM customers WHERE rating = 100;\n"
      ],
      "metadata": {
        "id": "AgK2cHTxgLBv"
      },
      "execution_count": null,
      "outputs": []
    },
    {
      "cell_type": "code",
      "source": [
        "# 5. SELECT orderno, amount, order_date FROM orders;\n"
      ],
      "metadata": {
        "id": "CvVS87h8gK98"
      },
      "execution_count": null,
      "outputs": []
    },
    {
      "cell_type": "code",
      "source": [
        "# 6. SELECT * FROM customers WHERE city = 'San Jose' AND rating > 200;\n"
      ],
      "metadata": {
        "id": "G86ojhgfgK5o"
      },
      "execution_count": null,
      "outputs": []
    },
    {
      "cell_type": "code",
      "source": [
        "# 7. SELECT * FROM customers WHERE city = 'San Jose' OR rating > 200;\n"
      ],
      "metadata": {
        "id": "aD7dMlj8gK1w"
      },
      "execution_count": null,
      "outputs": []
    },
    {
      "cell_type": "code",
      "source": [
        "# 8. SELECT * FROM orders WHERE amount > 1000;\n"
      ],
      "metadata": {
        "id": "pPO7cJfEgKvJ"
      },
      "execution_count": null,
      "outputs": []
    },
    {
      "cell_type": "code",
      "source": [
        "# 9. SELECT sname, city FROM salespeople WHERE city = 'London' AND comm > 0.10;\n"
      ],
      "metadata": {
        "id": "5zsfNzp4gKjr"
      },
      "execution_count": null,
      "outputs": []
    },
    {
      "cell_type": "code",
      "source": [
        "# 10. SELECT * FROM customers WHERE rating > 100 OR city = 'Rome';\n"
      ],
      "metadata": {
        "id": "ROlR17b5gKJg"
      },
      "execution_count": null,
      "outputs": []
    },
    {
      "cell_type": "code",
      "source": [
        "# 11. SELECT * FROM salespeople WHERE city = 'Barcelona' OR city = 'London';\n"
      ],
      "metadata": {
        "id": "duaj_taIgwHq"
      },
      "execution_count": null,
      "outputs": []
    },
    {
      "cell_type": "code",
      "source": [
        "# 12. SELECT * FROM salespeople WHERE comm > 0.10 AND comm < 0.12;\n"
      ],
      "metadata": {
        "id": "kb9Q6TUbgy6s"
      },
      "execution_count": null,
      "outputs": []
    },
    {
      "cell_type": "code",
      "source": [
        "# 13. SELECT * FROM customers WHERE city IS NULL;\n"
      ],
      "metadata": {
        "id": "QQwsSC-Ng2PU"
      },
      "execution_count": null,
      "outputs": []
    },
    {
      "cell_type": "code",
      "source": [
        "# 14. SELECT * FROM orders WHERE order_date IN ('1994-10-03', '1994-10-04');\n"
      ],
      "metadata": {
        "id": "agl4Z-odg8OP"
      },
      "execution_count": null,
      "outputs": []
    },
    {
      "cell_type": "code",
      "source": [
        "# 15. SELECT * FROM customers WHERE snum IN (SELECT snum FROM salespeople WHERE sname IN ('Peel', 'Motika'));\n"
      ],
      "metadata": {
        "id": "iAOqoNywg-VI"
      },
      "execution_count": null,
      "outputs": []
    },
    {
      "cell_type": "code",
      "source": [
        "# 16. SELECT * FROM customers WHERE cname LIKE '[A-B]%';\n"
      ],
      "metadata": {
        "id": "lekJKeqQhAff"
      },
      "execution_count": null,
      "outputs": []
    },
    {
      "cell_type": "code",
      "source": [
        "# 17.SELECT * FROM orders WHERE amount > 0;\n"
      ],
      "metadata": {
        "id": "d6dgsm3JhCOy"
      },
      "execution_count": null,
      "outputs": []
    },
    {
      "cell_type": "code",
      "source": [
        "# 18. SELECT COUNT(DISTINCT snum) FROM orders;\n"
      ],
      "metadata": {
        "id": "FXWbBH1khOEP"
      },
      "execution_count": null,
      "outputs": []
    },
    {
      "cell_type": "code",
      "source": [
        "# 19.SELECT snum, MAX(amount) AS max_order, order_date\n",
        "# FROM orders\n",
        "# GROUP BY snum, order_date;\n"
      ],
      "metadata": {
        "id": "IOpoQl-4hOoS"
      },
      "execution_count": null,
      "outputs": []
    },
    {
      "cell_type": "code",
      "source": [
        "# 20. SELECT snum, MAX(amount) AS max_order\n",
        "# FROM orders\n",
        "# WHERE amount > 3000\n",
        "# GROUP BY snum;\n"
      ],
      "metadata": {
        "id": "tTbUAEDRhO4l"
      },
      "execution_count": null,
      "outputs": []
    },
    {
      "cell_type": "code",
      "source": [
        "# 21. SELECT order_date, SUM(amount) AS total_amount\n",
        "# FROM orders\n",
        "# GROUP BY order_date\n",
        "# ORDER BY total_amount DESC\n",
        "# LIMIT 1;\n"
      ],
      "metadata": {
        "id": "WGDHsFMkhfa0"
      },
      "execution_count": null,
      "outputs": []
    },
    {
      "cell_type": "code",
      "source": [
        "# 22.SELECT COUNT(DISTINCT city) FROM customers WHERE city IS NOT NULL;\n"
      ],
      "metadata": {
        "id": "eBcS94bJheZK"
      },
      "execution_count": null,
      "outputs": []
    },
    {
      "cell_type": "code",
      "source": [
        "# 24.SELECT cnum, MIN(amount) AS smallest_order\n",
        "# FROM orders\n",
        "# GROUP BY cnum;\n"
      ],
      "metadata": {
        "id": "IOmo07Y5hqCE"
      },
      "execution_count": null,
      "outputs": []
    },
    {
      "cell_type": "code",
      "source": [
        "# 25.SELECT * FROM customers WHERE cname LIKE 'G%' ORDER BY cname ASC LIMIT 1;\n"
      ],
      "metadata": {
        "id": "pQmeRLB4hr-g"
      },
      "execution_count": null,
      "outputs": []
    },
    {
      "cell_type": "code",
      "source": [
        "#26.SELECT DATE_FORMAT(order_date, '%d/%m/%y') AS order_date, COUNT(*) AS order_count\n",
        "# FROM orders\n",
        "# GROUP BY order_date;\n"
      ],
      "metadata": {
        "id": "iy50dHpbhtOe"
      },
      "execution_count": null,
      "outputs": []
    },
    {
      "cell_type": "code",
      "source": [
        "# 27.SELECT orderno, snum, amount * 0.12 AS commission\n",
        "FROM orders;\n"
      ],
      "metadata": {
        "id": "lixtRkw5huer"
      },
      "execution_count": null,
      "outputs": []
    },
    {
      "cell_type": "code",
      "source": [
        "# 28.SELECT city, MAX(rating) AS highest_rating\n",
        "# FROM customers\n",
        "# GROUP BY city;\n"
      ],
      "metadata": {
        "id": "IfB8an2lhvv1"
      },
      "execution_count": null,
      "outputs": []
    },
    {
      "cell_type": "code",
      "source": [
        "# 29.SELECT order_date, SUM(amount) AS total_amount\n",
        "# FROM orders\n",
        "# GROUP BY order_date\n",
        "# ORDER BY total_amount DESC;\n"
      ],
      "metadata": {
        "id": "fTHrpyfWhx2A"
      },
      "execution_count": null,
      "outputs": []
    },
    {
      "cell_type": "code",
      "source": [
        "# 30.SELECT s.sname AS salesperson, c.cname AS customer\n",
        "# FROM salespeople s, customers c\n",
        "# WHERE s.city = c.city;\n"
      ],
      "metadata": {
        "id": "k44bgBCahz6C"
      },
      "execution_count": null,
      "outputs": []
    },
    {
      "cell_type": "code",
      "source": [
        "# 31. SELECT c.cname, s.sname\n",
        "# FROM customers c, salespeople s\n",
        "# WHERE c.snum = s.snum;\n"
      ],
      "metadata": {
        "id": "Lx6qBXVZiDb3"
      },
      "execution_count": null,
      "outputs": []
    },
    {
      "cell_type": "code",
      "source": [
        "# .32. SELECT o.orderno, c.cname\n",
        "# FROM orders o, customers c\n",
        "# WHERE o.cnum = c.cnum;\n"
      ],
      "metadata": {
        "id": "J0EaSlnRiKHV"
      },
      "execution_count": null,
      "outputs": []
    },
    {
      "cell_type": "code",
      "source": [
        "# 33. SELECT o.orderno, s.sname, c.cname\n",
        "# FROM orders o\n",
        "# JOIN salespeople s ON o.snum = s.snum\n",
        "# JOIN customers c ON o.cnum = c.cnum;\n"
      ],
      "metadata": {
        "id": "wuCJFT9MiOFz"
      },
      "execution_count": null,
      "outputs": []
    },
    {
      "cell_type": "code",
      "source": [
        "# 34. SELECT c.cname\n",
        "# FROM customers c, salespeople s\n",
        "# WHERE c.snum = s.snum AND s.comm > 0.12;\n"
      ],
      "metadata": {
        "id": "zCo0owlqiRDV"
      },
      "execution_count": null,
      "outputs": []
    },
    {
      "cell_type": "code",
      "source": [
        "# # 35.SELECT o.orderno, o.amount * 0.12 AS commission\n",
        "# FROM orders o\n",
        "# JOIN customers c ON o.cnum = c.cnum\n",
        "# WHERE c.rating > 100;\n"
      ],
      "metadata": {
        "id": "R3dVnRiOiUCv"
      },
      "execution_count": null,
      "outputs": []
    },
    {
      "cell_type": "code",
      "source": [
        "# 36.SELECT c1.cname, c2.cname\n",
        "# FROM customers c1, customers c2\n",
        "# WHERE c1.rating = c2.rating AND c1.cnum < c2.cnum;\n"
      ],
      "metadata": {
        "id": "ZfBO57GSiXuP"
      },
      "execution_count": null,
      "outputs": []
    },
    {
      "cell_type": "code",
      "source": [
        "# 37. SELECT c.cname, s.sname\n",
        "# FROM customers c, salespeople s\n",
        "# WHERE (SELECT COUNT(*) FROM salespeople) >= 3;\n"
      ],
      "metadata": {
        "id": "HB2ZULU6iZqF"
      },
      "execution_count": null,
      "outputs": []
    },
    {
      "cell_type": "code",
      "source": [
        "# 38. SELECT * FROM customers\n",
        "# WHERE city IN (SELECT city FROM customers WHERE snum = (SELECT snum FROM salespeople WHERE sname = 'Serres'));\n"
      ],
      "metadata": {
        "id": "r8xqfHmnid1H"
      },
      "execution_count": null,
      "outputs": []
    },
    {
      "cell_type": "code",
      "source": [
        "# 39.SELECT c1.cname, c2.cname\n",
        "# FROM customers c1, customers c2\n",
        "# WHERE c1.snum = c2.snum AND c1.cnum < c2.cnum;\n"
      ],
      "metadata": {
        "id": "4OlO6tkGigq3"
      },
      "execution_count": null,
      "outputs": []
    },
    {
      "cell_type": "code",
      "source": [
        "# 40. SELECT s1.sname, s2.sname\n",
        "# FROM salespeople s1, salespeople s2\n",
        "# WHERE s1.city = s2.city AND s1.snum < s2.snum;\n"
      ],
      "metadata": {
        "id": "ce3D4O0Pikzn"
      },
      "execution_count": null,
      "outputs": []
    }
  ]
}